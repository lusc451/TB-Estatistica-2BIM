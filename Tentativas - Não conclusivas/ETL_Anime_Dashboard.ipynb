{
 "cells": [
  {
   "cell_type": "code",
   "execution_count": 1,
   "id": "59d50de7",
   "metadata": {},
   "outputs": [
    {
     "name": "stdout",
     "output_type": "stream",
     "text": [
      "Arquivo processado salvo em: ETL_Animes.csv\n"
     ]
    },
    {
     "name": "stderr",
     "output_type": "stream",
     "text": [
      "C:\\Users\\cleit\\AppData\\Local\\Temp\\ipykernel_3604\\3542536746.py:21: PerformanceWarning: DataFrame is highly fragmented.  This is usually the result of calling `frame.insert` many times, which has poor performance.  Consider joining all columns at once using pd.concat(axis=1) instead. To get a de-fragmented frame, use `newframe = frame.copy()`\n",
      "  animes_data[f'{genre}_votos_totais'] = genre_data['Votos Totais'].sum()\n",
      "C:\\Users\\cleit\\AppData\\Local\\Temp\\ipykernel_3604\\3542536746.py:22: PerformanceWarning: DataFrame is highly fragmented.  This is usually the result of calling `frame.insert` many times, which has poor performance.  Consider joining all columns at once using pd.concat(axis=1) instead. To get a de-fragmented frame, use `newframe = frame.copy()`\n",
      "  animes_data[f'{genre}_contagem_animes'] = genre_data.shape[0]\n",
      "C:\\Users\\cleit\\AppData\\Local\\Temp\\ipykernel_3604\\3542536746.py:23: PerformanceWarning: DataFrame is highly fragmented.  This is usually the result of calling `frame.insert` many times, which has poor performance.  Consider joining all columns at once using pd.concat(axis=1) instead. To get a de-fragmented frame, use `newframe = frame.copy()`\n",
      "  animes_data[f'{genre}_média_episódios'] = genre_data['Número de Episódios'].mean()\n",
      "C:\\Users\\cleit\\AppData\\Local\\Temp\\ipykernel_3604\\3542536746.py:20: PerformanceWarning: DataFrame is highly fragmented.  This is usually the result of calling `frame.insert` many times, which has poor performance.  Consider joining all columns at once using pd.concat(axis=1) instead. To get a de-fragmented frame, use `newframe = frame.copy()`\n",
      "  animes_data[f'{genre}_média_avaliações'] = genre_data['Avaliação'].mean()\n",
      "C:\\Users\\cleit\\AppData\\Local\\Temp\\ipykernel_3604\\3542536746.py:21: PerformanceWarning: DataFrame is highly fragmented.  This is usually the result of calling `frame.insert` many times, which has poor performance.  Consider joining all columns at once using pd.concat(axis=1) instead. To get a de-fragmented frame, use `newframe = frame.copy()`\n",
      "  animes_data[f'{genre}_votos_totais'] = genre_data['Votos Totais'].sum()\n",
      "C:\\Users\\cleit\\AppData\\Local\\Temp\\ipykernel_3604\\3542536746.py:22: PerformanceWarning: DataFrame is highly fragmented.  This is usually the result of calling `frame.insert` many times, which has poor performance.  Consider joining all columns at once using pd.concat(axis=1) instead. To get a de-fragmented frame, use `newframe = frame.copy()`\n",
      "  animes_data[f'{genre}_contagem_animes'] = genre_data.shape[0]\n",
      "C:\\Users\\cleit\\AppData\\Local\\Temp\\ipykernel_3604\\3542536746.py:23: PerformanceWarning: DataFrame is highly fragmented.  This is usually the result of calling `frame.insert` many times, which has poor performance.  Consider joining all columns at once using pd.concat(axis=1) instead. To get a de-fragmented frame, use `newframe = frame.copy()`\n",
      "  animes_data[f'{genre}_média_episódios'] = genre_data['Número de Episódios'].mean()\n",
      "C:\\Users\\cleit\\AppData\\Local\\Temp\\ipykernel_3604\\3542536746.py:20: PerformanceWarning: DataFrame is highly fragmented.  This is usually the result of calling `frame.insert` many times, which has poor performance.  Consider joining all columns at once using pd.concat(axis=1) instead. To get a de-fragmented frame, use `newframe = frame.copy()`\n",
      "  animes_data[f'{genre}_média_avaliações'] = genre_data['Avaliação'].mean()\n",
      "C:\\Users\\cleit\\AppData\\Local\\Temp\\ipykernel_3604\\3542536746.py:21: PerformanceWarning: DataFrame is highly fragmented.  This is usually the result of calling `frame.insert` many times, which has poor performance.  Consider joining all columns at once using pd.concat(axis=1) instead. To get a de-fragmented frame, use `newframe = frame.copy()`\n",
      "  animes_data[f'{genre}_votos_totais'] = genre_data['Votos Totais'].sum()\n",
      "C:\\Users\\cleit\\AppData\\Local\\Temp\\ipykernel_3604\\3542536746.py:22: PerformanceWarning: DataFrame is highly fragmented.  This is usually the result of calling `frame.insert` many times, which has poor performance.  Consider joining all columns at once using pd.concat(axis=1) instead. To get a de-fragmented frame, use `newframe = frame.copy()`\n",
      "  animes_data[f'{genre}_contagem_animes'] = genre_data.shape[0]\n",
      "C:\\Users\\cleit\\AppData\\Local\\Temp\\ipykernel_3604\\3542536746.py:23: PerformanceWarning: DataFrame is highly fragmented.  This is usually the result of calling `frame.insert` many times, which has poor performance.  Consider joining all columns at once using pd.concat(axis=1) instead. To get a de-fragmented frame, use `newframe = frame.copy()`\n",
      "  animes_data[f'{genre}_média_episódios'] = genre_data['Número de Episódios'].mean()\n",
      "C:\\Users\\cleit\\AppData\\Local\\Temp\\ipykernel_3604\\3542536746.py:20: PerformanceWarning: DataFrame is highly fragmented.  This is usually the result of calling `frame.insert` many times, which has poor performance.  Consider joining all columns at once using pd.concat(axis=1) instead. To get a de-fragmented frame, use `newframe = frame.copy()`\n",
      "  animes_data[f'{genre}_média_avaliações'] = genre_data['Avaliação'].mean()\n",
      "C:\\Users\\cleit\\AppData\\Local\\Temp\\ipykernel_3604\\3542536746.py:21: PerformanceWarning: DataFrame is highly fragmented.  This is usually the result of calling `frame.insert` many times, which has poor performance.  Consider joining all columns at once using pd.concat(axis=1) instead. To get a de-fragmented frame, use `newframe = frame.copy()`\n",
      "  animes_data[f'{genre}_votos_totais'] = genre_data['Votos Totais'].sum()\n",
      "C:\\Users\\cleit\\AppData\\Local\\Temp\\ipykernel_3604\\3542536746.py:22: PerformanceWarning: DataFrame is highly fragmented.  This is usually the result of calling `frame.insert` many times, which has poor performance.  Consider joining all columns at once using pd.concat(axis=1) instead. To get a de-fragmented frame, use `newframe = frame.copy()`\n",
      "  animes_data[f'{genre}_contagem_animes'] = genre_data.shape[0]\n",
      "C:\\Users\\cleit\\AppData\\Local\\Temp\\ipykernel_3604\\3542536746.py:23: PerformanceWarning: DataFrame is highly fragmented.  This is usually the result of calling `frame.insert` many times, which has poor performance.  Consider joining all columns at once using pd.concat(axis=1) instead. To get a de-fragmented frame, use `newframe = frame.copy()`\n",
      "  animes_data[f'{genre}_média_episódios'] = genre_data['Número de Episódios'].mean()\n",
      "C:\\Users\\cleit\\AppData\\Local\\Temp\\ipykernel_3604\\3542536746.py:20: PerformanceWarning: DataFrame is highly fragmented.  This is usually the result of calling `frame.insert` many times, which has poor performance.  Consider joining all columns at once using pd.concat(axis=1) instead. To get a de-fragmented frame, use `newframe = frame.copy()`\n",
      "  animes_data[f'{genre}_média_avaliações'] = genre_data['Avaliação'].mean()\n",
      "C:\\Users\\cleit\\AppData\\Local\\Temp\\ipykernel_3604\\3542536746.py:21: PerformanceWarning: DataFrame is highly fragmented.  This is usually the result of calling `frame.insert` many times, which has poor performance.  Consider joining all columns at once using pd.concat(axis=1) instead. To get a de-fragmented frame, use `newframe = frame.copy()`\n",
      "  animes_data[f'{genre}_votos_totais'] = genre_data['Votos Totais'].sum()\n",
      "C:\\Users\\cleit\\AppData\\Local\\Temp\\ipykernel_3604\\3542536746.py:22: PerformanceWarning: DataFrame is highly fragmented.  This is usually the result of calling `frame.insert` many times, which has poor performance.  Consider joining all columns at once using pd.concat(axis=1) instead. To get a de-fragmented frame, use `newframe = frame.copy()`\n",
      "  animes_data[f'{genre}_contagem_animes'] = genre_data.shape[0]\n",
      "C:\\Users\\cleit\\AppData\\Local\\Temp\\ipykernel_3604\\3542536746.py:23: PerformanceWarning: DataFrame is highly fragmented.  This is usually the result of calling `frame.insert` many times, which has poor performance.  Consider joining all columns at once using pd.concat(axis=1) instead. To get a de-fragmented frame, use `newframe = frame.copy()`\n",
      "  animes_data[f'{genre}_média_episódios'] = genre_data['Número de Episódios'].mean()\n"
     ]
    }
   ],
   "source": [
    "\n",
    "# Importando as bibliotecas necessárias\n",
    "import pandas as pd\n",
    "\n",
    "# Carregamento dos dados\n",
    "file_path = 'animes.csv'  # Substitua pelo caminho correto do arquivo\n",
    "animes_data = pd.read_csv('animes.csv')\n",
    "\n",
    "# Renomeando colunas para Português\n",
    "columns_rename = {\n",
    "    'rate': 'Avaliação',\n",
    "    'votes': 'Votos Totais',\n",
    "    'episodes': 'Número de Episódios'\n",
    "}\n",
    "animes_data.rename(columns=columns_rename, inplace=True)\n",
    "\n",
    "# Adicionando indicadores estatísticos\n",
    "genre_columns = [col for col in animes_data.columns if 'genre_' in col]\n",
    "for genre in genre_columns:\n",
    "    genre_data = animes_data[animes_data[genre] == 1]\n",
    "    animes_data[f'{genre}_média_avaliações'] = genre_data['Avaliação'].mean()\n",
    "    animes_data[f'{genre}_votos_totais'] = genre_data['Votos Totais'].sum()\n",
    "    animes_data[f'{genre}_contagem_animes'] = genre_data.shape[0]\n",
    "    animes_data[f'{genre}_média_episódios'] = genre_data['Número de Episódios'].mean()\n",
    "\n",
    "# Salvando o dataframe processado\n",
    "processed_file_path = 'ETL_Animes.csv'  # Substitua pelo caminho desejado\n",
    "animes_data.to_csv(processed_file_path, index=False)\n",
    "\n",
    "print(f\"Arquivo processado salvo em: {processed_file_path}\")\n"
   ]
  }
 ],
 "metadata": {
  "kernelspec": {
   "display_name": "Python 3",
   "language": "python",
   "name": "python3"
  },
  "language_info": {
   "codemirror_mode": {
    "name": "ipython",
    "version": 3
   },
   "file_extension": ".py",
   "mimetype": "text/x-python",
   "name": "python",
   "nbconvert_exporter": "python",
   "pygments_lexer": "ipython3",
   "version": "3.12.0"
  }
 },
 "nbformat": 4,
 "nbformat_minor": 5
}
