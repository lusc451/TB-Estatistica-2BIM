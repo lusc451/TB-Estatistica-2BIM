{
 "cells": [
  {
   "cell_type": "markdown",
   "id": "e98a17fd",
   "metadata": {},
   "source": [
    "# Tratamento de Dados para Dataset de Animes"
   ]
  },
  {
   "cell_type": "markdown",
   "id": "833307f4",
   "metadata": {},
   "source": [
    "## Carregamento dos Dados"
   ]
  },
  {
   "cell_type": "code",
   "execution_count": null,
   "id": "830ccfa1",
   "metadata": {},
   "outputs": [],
   "source": [
    "\n",
    "import pandas as pd\n",
    "\n",
    "# Carregamento dos dados\n",
    "file_path = 'animes.csv'  # Substitua pelo caminho correto do arquivo\n",
    "animes_data = pd.read_csv(file_path)\n",
    "        "
   ]
  },
  {
   "cell_type": "markdown",
   "id": "2fdc9c16",
   "metadata": {},
   "source": [
    "## Renomeação das Colunas"
   ]
  },
  {
   "cell_type": "code",
   "execution_count": null,
   "id": "2ff74d68",
   "metadata": {},
   "outputs": [],
   "source": [
    "\n",
    "# Renomeando colunas para Português\n",
    "columns_rename = {\n",
    "    'rate': 'Avaliação',\n",
    "    'votes': 'Votos Totais',\n",
    "    'episodes': 'Número de Episódios'\n",
    "}\n",
    "animes_data.rename(columns=columns_rename, inplace=True)\n",
    "        "
   ]
  },
  {
   "cell_type": "markdown",
   "id": "dad71a43",
   "metadata": {},
   "source": [
    "## Cálculo de Indicadores Estatísticos"
   ]
  },
  {
   "cell_type": "code",
   "execution_count": null,
   "id": "89b89a8c",
   "metadata": {},
   "outputs": [],
   "source": [
    "\n",
    "# Adicionando indicadores estatísticos\n",
    "genre_columns = [col for col in animes_data.columns if 'genre_' in col]\n",
    "genre_data_summary = {}\n",
    "\n",
    "for genre in genre_columns:\n",
    "    genre_data = animes_data[animes_data[genre] == 1]\n",
    "    genre_data_summary[genre] = {\n",
    "        'Média de Avaliações': genre_data['Avaliação'].mean(),\n",
    "        'Votos Totais por Gênero': genre_data['Votos Totais'].sum(),\n",
    "        'Contagem de Animes': genre_data.shape[0],\n",
    "        'Média de Episódios': genre_data['Número de Episódios'].mean()\n",
    "    }\n",
    "\n",
    "# Calculando os gêneros mais populares\n",
    "most_popular_genre = max(genre_data_summary, key=lambda x: genre_data_summary[x]['Votos Totais por Gênero'])\n",
    "most_anime_genre = max(genre_data_summary, key=lambda x: genre_data_summary[x]['Contagem de Animes'])\n",
    "\n",
    "# Animes que estão no ar há mais tempo\n",
    "longest_airing = animes_data[animes_data['Status'] == 'On Air'].sort_values(by='Número de Episódios', ascending=False).head(1)['anime'].values[0]\n",
    "\n",
    "# Anime mais popular de cada gênero\n",
    "most_popular_per_genre = {genre: genre_data.sort_values(by='Votos Totais', ascending=False).iloc[0]['anime'] for genre, genre_data in genre_data_summary.items()}\n",
    "\n",
    "# Inserindo as estatísticas calculadas de volta no DataFrame\n",
    "for genre in genre_columns:\n",
    "    animes_data[f'{genre}_Votos Totais por Gênero'] = genre_data_summary[genre]['Votos Totais por Gênero']\n",
    "    animes_data[f'{genre}_Contagem de Animes'] = genre_data_summary[genre]['Contagem de Animes']\n",
    "\n",
    "# Reorganizando colunas\n",
    "cols_order = ['anime', 'Número de Episódios', 'Votos Totais', 'Avaliação'] + [col for col in animes_data.columns if col.startswith('genre_')]\n",
    "animes_data = animes_data[cols_order]\n",
    "        "
   ]
  },
  {
   "cell_type": "markdown",
   "id": "86ec1931",
   "metadata": {},
   "source": [
    "## Salvando o Dataset Processado"
   ]
  },
  {
   "cell_type": "code",
   "execution_count": null,
   "id": "1e366ad3",
   "metadata": {},
   "outputs": [],
   "source": [
    "\n",
    "# Salvando o dataframe processado\n",
    "processed_file_path = 'Animes_Tratados.csv'  # Substitua pelo caminho desejado\n",
    "animes_data.to_csv(processed_file_path, index=False)\n",
    "\n",
    "print(f\"Arquivo processado salvo em: {processed_file_path}\")\n",
    "        "
   ]
  }
 ],
 "metadata": {
  "language_info": {
   "name": "python"
  }
 },
 "nbformat": 4,
 "nbformat_minor": 5
}
