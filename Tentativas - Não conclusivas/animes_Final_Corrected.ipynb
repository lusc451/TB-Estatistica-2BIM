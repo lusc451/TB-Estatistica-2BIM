{
 "cells": [
  {
   "cell_type": "code",
   "execution_count": 1,
   "id": "404f4147",
   "metadata": {},
   "outputs": [
    {
     "name": "stdout",
     "output_type": "stream",
     "text": [
      "Arquivo processado salvo em: dados_animes_ETL.csv\n"
     ]
    }
   ],
   "source": [
    "# Importando as bibliotecas necessárias\n",
    "import pandas as pd\n",
    "\n",
    "# Carregando o dataset\n",
    "file_path = 'animes.csv'  # Substitua pelo caminho correto do arquivo\n",
    "animes_data = pd.read_csv('animes.csv')\n",
    "\n",
    "# Lista de colunas de gêneros\n",
    "genre_columns = [col for col in animes_data.columns if 'genre_' in col]\n",
    "\n",
    "# Cálculo de estatísticas agregadas por gênero\n",
    "genre_stats = {}\n",
    "for genre in genre_columns:\n",
    "    genre_data = animes_data[animes_data[genre] == 1]\n",
    "    genre_stats[genre] = {\n",
    "        'average_rate': genre_data['rate'].mean(),\n",
    "        'total_votes': genre_data['votes'].sum(),\n",
    "        'average_episodes': genre_data['episodes'].mean()\n",
    "    }\n",
    "\n",
    "# Adicionando estatísticas ao dataframe principal\n",
    "for genre in genre_columns:\n",
    "    animes_data[f'{genre}_avg_rate'] = animes_data[genre] * genre_stats[genre]['average_rate']\n",
    "    animes_data[f'{genre}_total_votes'] = animes_data[genre] * genre_stats[genre]['total_votes']\n",
    "    animes_data[f'{genre}_avg_episodes'] = animes_data[genre] * genre_stats[genre]['average_episodes']\n",
    "\n",
    "# Salvando o dataframe processado em um novo arquivo CSV\n",
    "processed_file_path = 'dados_animes_ETL.csv'  # Substitua pelo caminho desejado\n",
    "animes_data.to_csv(processed_file_path, index=False)\n",
    "\n",
    "print(f\"Arquivo processado salvo em: {processed_file_path}\")\n"
   ]
  }
 ],
 "metadata": {
  "kernelspec": {
   "display_name": "Python 3",
   "language": "python",
   "name": "python3"
  },
  "language_info": {
   "codemirror_mode": {
    "name": "ipython",
    "version": 3
   },
   "file_extension": ".py",
   "mimetype": "text/x-python",
   "name": "python",
   "nbconvert_exporter": "python",
   "pygments_lexer": "ipython3",
   "version": "3.12.0"
  }
 },
 "nbformat": 4,
 "nbformat_minor": 5
}
