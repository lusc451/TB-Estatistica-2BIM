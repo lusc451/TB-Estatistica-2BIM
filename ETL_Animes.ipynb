{
 "cells": [
  {
   "cell_type": "code",
   "execution_count": 1,
   "metadata": {},
   "outputs": [
    {
     "name": "stdout",
     "output_type": "stream",
     "text": [
      "Action: Eyeshield 21, Votos: 8466\n",
      "Adventure: The Tower of DRUAGA -the Aegis of URUK-, Votos: 2247\n",
      "Comedy: Skip Beat!, Votos: 15011\n",
      "Drama: Skip Beat!, Votos: 15011\n",
      "Family: The Golden Path, Votos: 5\n",
      "Fantasy: Natsume Yuujinchou, Votos: 5158\n",
      "Food: Wakakozake (Drama), Votos: 27\n",
      "Harem: La Corda d'Oro ~primo passo~ and ~secondo passo~, Votos: 9555\n",
      "Historical: Otome Yokai Zakuro, Votos: 1326\n",
      "Horror: RH Plus, Votos: 623\n",
      "Idols: Love Live!, Votos: 216\n",
      "Isekai: The Rising of the Shield Hero, Votos: 1409\n",
      "Jdrama: RH Plus, Votos: 623\n",
      "Magical girls: Yokuwakaru Gendai Maho, Votos: 1288\n",
      "Martial arts: Karate Girl, Votos: 7\n",
      "Mecha: BLASSREITER, Votos: 1869\n",
      "Music: La Corda d'Oro ~primo passo~ and ~secondo passo~, Votos: 9555\n",
      "Mystery: Another, Votos: 1859\n",
      "Post-apocalyptic: Attack on Titan, Votos: 2014\n",
      "Romance: Skip Beat!, Votos: 15011\n",
      "Sci-fi: BLASSREITER, Votos: 1869\n",
      "Seinen: 11eyes, Votos: 2137\n",
      "Sgdrama: Unriddle, Votos: 5\n",
      "Shojo: Say \"I love you.\", Votos: 583\n",
      "Shonen: Black Clover, Votos: 1941\n",
      "Slice of life: Natsume Yuujinchou, Votos: 5158\n",
      "Sports: Eyeshield 21, Votos: 8466\n",
      "Supernatural: Tegami Bachi Letter Bee, Votos: 3593\n",
      "Thriller: Attack on Titan, Votos: 2014\n",
      "Arquivo processado salvo em: Animes_ETL2.csv\n"
     ]
    }
   ],
   "source": [
    "# Importando as bibliotecas necessárias\n",
    "import pandas as pd\n",
    "\n",
    "# Carregamento dos dados\n",
    "file_path = 'animes.csv'  # Substitua pelo caminho correto do arquivo\n",
    "animes_data = pd.read_csv(file_path)\n",
    "\n",
    "# Renomeando colunas para Português\n",
    "columns_rename = {\n",
    "    'rate': 'Avaliação',\n",
    "    'votes': 'Votos Totais',\n",
    "    'episodes': 'Número de Episódios'\n",
    "}\n",
    "animes_data.rename(columns=columns_rename, inplace=True)\n",
    "\n",
    "# Adicionando indicadores estatísticos\n",
    "genre_columns = [col for col in animes_data.columns if 'genre_' in col]\n",
    "genre_data_summary = {}\n",
    "most_popular_per_genre = {}\n",
    "\n",
    "for genre in genre_columns:\n",
    "    genre_data = animes_data[animes_data[genre] == 1]\n",
    "    genre_data_summary[genre] = {\n",
    "        'Média de Avaliações': genre_data['Avaliação'].mean(),\n",
    "        'Votos Totais por Gênero': genre_data['Votos Totais'].sum(),\n",
    "        'Contagem de Animes': genre_data.shape[0],\n",
    "        'Média de Episódios': genre_data['Número de Episódios'].mean()\n",
    "    }\n",
    "    # Calculando o anime mais popular por gênero\n",
    "    if not genre_data.empty:\n",
    "        most_popular = genre_data.loc[genre_data['Votos Totais'].idxmax()]\n",
    "        most_popular_per_genre[genre] = (most_popular['anime'], most_popular['Votos Totais'])\n",
    "\n",
    "# Criando colunas para o anime mais popular e seu gênero\n",
    "animes_data['Anime Mais Popular'] = None\n",
    "animes_data['Gênero Mais Popular'] = None\n",
    "\n",
    "for genre, data in most_popular_per_genre.items():\n",
    "    animes_data.loc[animes_data['anime'] == data[0], 'Anime Mais Popular'] = data[0]\n",
    "    animes_data.loc[animes_data['anime'] == data[0], 'Gênero Mais Popular'] = genre.replace('genre_', '').capitalize()\n",
    "\n",
    "# Salvando o dataframe processado\n",
    "processed_file_path = 'Animes_ETL2.csv'  # Substitua pelo caminho desejado\n",
    "animes_data.to_csv(processed_file_path, index=False)\n",
    "\n",
    "print(f\"Arquivo processado salvo em: {processed_file_path}\")\n"
   ]
  }
 ],
 "metadata": {
  "kernelspec": {
   "display_name": "Python 3",
   "language": "python",
   "name": "python3"
  },
  "language_info": {
   "codemirror_mode": {
    "name": "ipython",
    "version": 3
   },
   "file_extension": ".py",
   "mimetype": "text/x-python",
   "name": "python",
   "nbconvert_exporter": "python",
   "pygments_lexer": "ipython3",
   "version": "3.12.0"
  }
 },
 "nbformat": 4,
 "nbformat_minor": 2
}
