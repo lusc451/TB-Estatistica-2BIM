{
 "cells": [
  {
   "cell_type": "markdown",
   "metadata": {},
   "source": [
    "# Tratamento de dados de um DataFrame de Animes da Crunchyroll"
   ]
  },
  {
   "cell_type": "markdown",
   "metadata": {},
   "source": [
    "## Importação das bibliotecas e carregamento do DataFrame"
   ]
  },
  {
   "cell_type": "code",
   "execution_count": null,
   "metadata": {},
   "outputs": [],
   "source": [
    "import pandas as pd\n",
    "\n",
    "# Carregamento dos dados\n",
    "caminho_arquivo = 'animes.csv'\n",
    "dados_animes = pd.read_csv(caminho_arquivo)"
   ]
  },
  {
   "cell_type": "markdown",
   "metadata": {},
   "source": [
    "## Renomeando colunas"
   ]
  },
  {
   "cell_type": "code",
   "execution_count": null,
   "metadata": {},
   "outputs": [],
   "source": [
    "# Renomeando colunas para Português\n",
    "renomear_colunas = {\n",
    "    'rate': 'Avaliação',\n",
    "    'votes': 'Votos Totais',\n",
    "    'episodes': 'Número de Episódios'\n",
    "}\n",
    "dados_animes.rename(columns=renomear_colunas, inplace=True)"
   ]
  },
  {
   "cell_type": "markdown",
   "metadata": {},
   "source": [
    "## Cálculos estatísticos"
   ]
  },
  {
   "cell_type": "code",
   "execution_count": null,
   "metadata": {},
   "outputs": [],
   "source": [
    "# Adicionando indicadores estatísticos\n",
    "colunas_genero = [col for col in dados_animes.columns if 'genre_' in col]\n",
    "anime_popular_por_genero = {}\n",
    "\n",
    "for genero in colunas_genero:\n",
    "    dados_genero = dados_animes[dados_animes[genero] == 1]\n",
    "    if not dados_genero.empty:\n",
    "        mais_popular = dados_genero.loc[dados_genero['Votos Totais'].idxmax()]\n",
    "        anime_popular_por_genero[genero] = mais_popular['anime']\n",
    "        dados_animes.loc[dados_animes['anime'] == mais_popular['anime'], f'{genero}_Anime Mais Popular'] = mais_popular['anime']\n",
    "        dados_animes.loc[dados_animes['anime'] == mais_popular['anime'], f'{genero}_Gênero Mais Popular'] = genero\n",
    "        dados_animes[f'{genero}_Média Avaliações'] = dados_genero['Avaliação'].mean()\n",
    "        dados_animes[f'{genero}_Total Votos Gênero'] = dados_genero['Votos Totais'].sum()\n",
    "        dados_animes[f'{genero}_Contagem Animes'] = dados_genero.shape[0]\n",
    "        dados_animes[f'{genero}_Média Episódios'] = dados_genero['Número de Episódios'].mean()\n",
    "\n",
    "# Identificando animes altamente avaliados\n",
    "dados_animes['Animes Populares'] = dados_animes.apply(lambda x: x['anime'] if x['Avaliação'] >= 4.5 else '', axis=1)\n"
   ]
  },
  {
   "cell_type": "markdown",
   "metadata": {},
   "source": [
    "## Reorganizando os dados"
   ]
  },
  {
   "cell_type": "code",
   "execution_count": null,
   "metadata": {},
   "outputs": [],
   "source": [
    "# Preparando as colunas para reorganização\n",
    "colunas_nucleo = ['anime', 'anime_url', 'anime_img', 'Número de Episódios', 'Votos Totais', 'Animes Populares', 'Avaliação']\n",
    "colunas_estatisticas = [col for col in dados_animes.columns if any(palavra_chave in col for palavra_chave in ['Média Avaliações', 'Total Votos Gênero', 'Contagem Animes', 'Média Episódios'])]\n",
    "colunas_popularidade_genero = [col for col in dados_animes.columns if 'Mais Popular' in col]\n",
    "\n",
    "# Reorganizando colunas\n",
    "dados_animes = dados_animes[colunas_nucleo + colunas_popularidade_genero + colunas_estatisticas]"
   ]
  },
  {
   "cell_type": "markdown",
   "metadata": {},
   "source": [
    "## Exportando os dados tratados para um novo CSV"
   ]
  },
  {
   "cell_type": "code",
   "execution_count": null,
   "metadata": {},
   "outputs": [],
   "source": [
    "# Salvando o dataframe processado\n",
    "caminho_arquivo_processado = 'Animes_ETL_Final.csv'  # Substitua pelo caminho desejado\n",
    "dados_animes.to_csv(caminho_arquivo_processado, index=False)\n",
    "\n",
    "print(f\"Arquivo processado salvo em: {caminho_arquivo_processado}\")"
   ]
  }
 ],
 "metadata": {
  "kernelspec": {
   "display_name": "Python 3",
   "language": "python",
   "name": "python3"
  },
  "language_info": {
   "codemirror_mode": {
    "name": "ipython",
    "version": 3
   },
   "file_extension": ".py",
   "mimetype": "text/x-python",
   "name": "python",
   "nbconvert_exporter": "python",
   "pygments_lexer": "ipython3",
   "version": "3.12.0"
  }
 },
 "nbformat": 4,
 "nbformat_minor": 2
}
