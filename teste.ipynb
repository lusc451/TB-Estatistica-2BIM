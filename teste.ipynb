{
 "cells": [
  {
   "cell_type": "code",
   "execution_count": 3,
   "metadata": {},
   "outputs": [
    {
     "ename": "KeyError",
     "evalue": "\"['Gênero do anime'] not in index\"",
     "output_type": "error",
     "traceback": [
      "\u001b[1;31m---------------------------------------------------------------------------\u001b[0m",
      "\u001b[1;31mKeyError\u001b[0m                                  Traceback (most recent call last)",
      "Cell \u001b[1;32mIn[3], line 58\u001b[0m\n\u001b[0;32m     51\u001b[0m \u001b[38;5;66;03m# Salvando o DataFrame processado para exportação\u001b[39;00m\n\u001b[0;32m     52\u001b[0m colunas_exportacao \u001b[38;5;241m=\u001b[39m [\n\u001b[0;32m     53\u001b[0m     \u001b[38;5;124m'\u001b[39m\u001b[38;5;124manime\u001b[39m\u001b[38;5;124m'\u001b[39m, \u001b[38;5;124m'\u001b[39m\u001b[38;5;124mGênero do anime\u001b[39m\u001b[38;5;124m'\u001b[39m, \u001b[38;5;124m'\u001b[39m\u001b[38;5;124manime_url\u001b[39m\u001b[38;5;124m'\u001b[39m, \u001b[38;5;124m'\u001b[39m\u001b[38;5;124manime_img\u001b[39m\u001b[38;5;124m'\u001b[39m, \u001b[38;5;124m'\u001b[39m\u001b[38;5;124mQuantidade de episódios do anime\u001b[39m\u001b[38;5;124m'\u001b[39m,\n\u001b[0;32m     54\u001b[0m     \u001b[38;5;124m'\u001b[39m\u001b[38;5;124mVotos totais do anime\u001b[39m\u001b[38;5;124m'\u001b[39m, \u001b[38;5;124m'\u001b[39m\u001b[38;5;124mAvaliação do anime\u001b[39m\u001b[38;5;124m'\u001b[39m, \u001b[38;5;124m'\u001b[39m\u001b[38;5;124mAvaliação Categoria do anime\u001b[39m\u001b[38;5;124m'\u001b[39m,\n\u001b[0;32m     55\u001b[0m     \u001b[38;5;124m'\u001b[39m\u001b[38;5;124mContagem total de votos de todos os animes\u001b[39m\u001b[38;5;124m'\u001b[39m, \u001b[38;5;124m'\u001b[39m\u001b[38;5;124mEstatísticas do gênero\u001b[39m\u001b[38;5;124m'\u001b[39m, \u001b[38;5;124m'\u001b[39m\u001b[38;5;124mGênero Calculado\u001b[39m\u001b[38;5;124m'\u001b[39m\n\u001b[0;32m     56\u001b[0m ]\n\u001b[1;32m---> 58\u001b[0m dados_animes_final \u001b[38;5;241m=\u001b[39m \u001b[43mdados_animes\u001b[49m\u001b[43m[\u001b[49m\u001b[43mcolunas_exportacao\u001b[49m\u001b[43m]\u001b[49m\n\u001b[0;32m     59\u001b[0m caminho_arquivo_processado \u001b[38;5;241m=\u001b[39m \u001b[38;5;124m'\u001b[39m\u001b[38;5;124manimes_para_power_bi.csv\u001b[39m\u001b[38;5;124m'\u001b[39m\n\u001b[0;32m     60\u001b[0m dados_animes_final\u001b[38;5;241m.\u001b[39mto_csv(caminho_arquivo_processado, index\u001b[38;5;241m=\u001b[39m\u001b[38;5;28;01mFalse\u001b[39;00m)\n",
      "File \u001b[1;32mc:\\Python312\\Lib\\site-packages\\pandas\\core\\frame.py:4096\u001b[0m, in \u001b[0;36mDataFrame.__getitem__\u001b[1;34m(self, key)\u001b[0m\n\u001b[0;32m   4094\u001b[0m     \u001b[38;5;28;01mif\u001b[39;00m is_iterator(key):\n\u001b[0;32m   4095\u001b[0m         key \u001b[38;5;241m=\u001b[39m \u001b[38;5;28mlist\u001b[39m(key)\n\u001b[1;32m-> 4096\u001b[0m     indexer \u001b[38;5;241m=\u001b[39m \u001b[38;5;28;43mself\u001b[39;49m\u001b[38;5;241;43m.\u001b[39;49m\u001b[43mcolumns\u001b[49m\u001b[38;5;241;43m.\u001b[39;49m\u001b[43m_get_indexer_strict\u001b[49m\u001b[43m(\u001b[49m\u001b[43mkey\u001b[49m\u001b[43m,\u001b[49m\u001b[43m \u001b[49m\u001b[38;5;124;43m\"\u001b[39;49m\u001b[38;5;124;43mcolumns\u001b[39;49m\u001b[38;5;124;43m\"\u001b[39;49m\u001b[43m)\u001b[49m[\u001b[38;5;241m1\u001b[39m]\n\u001b[0;32m   4098\u001b[0m \u001b[38;5;66;03m# take() does not accept boolean indexers\u001b[39;00m\n\u001b[0;32m   4099\u001b[0m \u001b[38;5;28;01mif\u001b[39;00m \u001b[38;5;28mgetattr\u001b[39m(indexer, \u001b[38;5;124m\"\u001b[39m\u001b[38;5;124mdtype\u001b[39m\u001b[38;5;124m\"\u001b[39m, \u001b[38;5;28;01mNone\u001b[39;00m) \u001b[38;5;241m==\u001b[39m \u001b[38;5;28mbool\u001b[39m:\n",
      "File \u001b[1;32mc:\\Python312\\Lib\\site-packages\\pandas\\core\\indexes\\base.py:6200\u001b[0m, in \u001b[0;36mIndex._get_indexer_strict\u001b[1;34m(self, key, axis_name)\u001b[0m\n\u001b[0;32m   6197\u001b[0m \u001b[38;5;28;01melse\u001b[39;00m:\n\u001b[0;32m   6198\u001b[0m     keyarr, indexer, new_indexer \u001b[38;5;241m=\u001b[39m \u001b[38;5;28mself\u001b[39m\u001b[38;5;241m.\u001b[39m_reindex_non_unique(keyarr)\n\u001b[1;32m-> 6200\u001b[0m \u001b[38;5;28;43mself\u001b[39;49m\u001b[38;5;241;43m.\u001b[39;49m\u001b[43m_raise_if_missing\u001b[49m\u001b[43m(\u001b[49m\u001b[43mkeyarr\u001b[49m\u001b[43m,\u001b[49m\u001b[43m \u001b[49m\u001b[43mindexer\u001b[49m\u001b[43m,\u001b[49m\u001b[43m \u001b[49m\u001b[43maxis_name\u001b[49m\u001b[43m)\u001b[49m\n\u001b[0;32m   6202\u001b[0m keyarr \u001b[38;5;241m=\u001b[39m \u001b[38;5;28mself\u001b[39m\u001b[38;5;241m.\u001b[39mtake(indexer)\n\u001b[0;32m   6203\u001b[0m \u001b[38;5;28;01mif\u001b[39;00m \u001b[38;5;28misinstance\u001b[39m(key, Index):\n\u001b[0;32m   6204\u001b[0m     \u001b[38;5;66;03m# GH 42790 - Preserve name from an Index\u001b[39;00m\n",
      "File \u001b[1;32mc:\\Python312\\Lib\\site-packages\\pandas\\core\\indexes\\base.py:6252\u001b[0m, in \u001b[0;36mIndex._raise_if_missing\u001b[1;34m(self, key, indexer, axis_name)\u001b[0m\n\u001b[0;32m   6249\u001b[0m     \u001b[38;5;28;01mraise\u001b[39;00m \u001b[38;5;167;01mKeyError\u001b[39;00m(\u001b[38;5;124mf\u001b[39m\u001b[38;5;124m\"\u001b[39m\u001b[38;5;124mNone of [\u001b[39m\u001b[38;5;132;01m{\u001b[39;00mkey\u001b[38;5;132;01m}\u001b[39;00m\u001b[38;5;124m] are in the [\u001b[39m\u001b[38;5;132;01m{\u001b[39;00maxis_name\u001b[38;5;132;01m}\u001b[39;00m\u001b[38;5;124m]\u001b[39m\u001b[38;5;124m\"\u001b[39m)\n\u001b[0;32m   6251\u001b[0m not_found \u001b[38;5;241m=\u001b[39m \u001b[38;5;28mlist\u001b[39m(ensure_index(key)[missing_mask\u001b[38;5;241m.\u001b[39mnonzero()[\u001b[38;5;241m0\u001b[39m]]\u001b[38;5;241m.\u001b[39munique())\n\u001b[1;32m-> 6252\u001b[0m \u001b[38;5;28;01mraise\u001b[39;00m \u001b[38;5;167;01mKeyError\u001b[39;00m(\u001b[38;5;124mf\u001b[39m\u001b[38;5;124m\"\u001b[39m\u001b[38;5;132;01m{\u001b[39;00mnot_found\u001b[38;5;132;01m}\u001b[39;00m\u001b[38;5;124m not in index\u001b[39m\u001b[38;5;124m\"\u001b[39m)\n",
      "\u001b[1;31mKeyError\u001b[0m: \"['Gênero do anime'] not in index\""
     ]
    }
   ],
   "source": [
    "import pandas as pd\n",
    "\n",
    "# Carregamento dos dados\n",
    "caminho_arquivo = 'animes.csv'\n",
    "dados_animes = pd.read_csv(caminho_arquivo)\n",
    "\n",
    "# Renomeando e preparando colunas\n",
    "dados_animes.rename(columns={\n",
    "    'rate': 'Avaliação do anime',\n",
    "    'votes': 'Votos totais do anime',\n",
    "    'episodes': 'Quantidade de episódios do anime'\n",
    "}, inplace=True)\n",
    "\n",
    "# Exclusão de animes sem episódios\n",
    "dados_animes = dados_animes[dados_animes['Quantidade de episódios do anime'] > 0]\n",
    "\n",
    "# Contagem total de votos\n",
    "dados_animes['Contagem total de votos de todos os animes'] = dados_animes['Votos totais do anime'].sum()\n",
    "\n",
    "# Preparação das colunas de gênero e criação de 'Gênero do anime'\n",
    "colunas_genero = [col for col in dados_animes.columns if 'genre_' in col]\n",
    "dados_animes['Gênero do anime'] = dados_animes[colunas_genero].apply(lambda x: ', '.join(x.index[x == 1].str.replace('genre_', '').str.capitalize()), axis=1)\n",
    "\n",
    "# Calculando estatísticas combinadas e armazenando em colunas\n",
    "for genero in colunas_genero:\n",
    "    genero_label = genero.replace('genre_', '').capitalize()\n",
    "    grupo = dados_animes[dados_animes[genero] == 1]\n",
    "    if not grupo.empty:\n",
    "        estatisticas = (\n",
    "            f'Votos: {grupo[\"Votos totais do anime\"].sum()}, '\n",
    "            f'Animes: {grupo.shape[0]}, '\n",
    "            f'Episódios: {grupo[\"Quantidade de episódios do anime\"].sum()}, '\n",
    "            f'Média Avaliações: {grupo[\"Avaliação do anime\"].mean():.2f}, '\n",
    "            f'Assimetria: {grupo[\"Avaliação do anime\"].skew():.2f}, '\n",
    "            f'Curtose: {grupo[\"Avaliação do anime\"].kurt():.2f}, '\n",
    "            f'Desvio Padrão: {grupo[\"Avaliação do anime\"].std():.2f}'\n",
    "        )\n",
    "        dados_animes.loc[dados_animes[genero] == 1, 'Estatísticas do gênero'] = estatisticas\n",
    "        dados_animes.loc[dados_animes[genero] == 1, 'Gênero Calculado'] = genero_label\n",
    "\n",
    "# Classificação de avaliação\n",
    "dados_animes['Avaliação Categoria do anime'] = dados_animes['Avaliação do anime'].apply(lambda valor: (\n",
    "    \"Péssimo\" if valor <= 1 else\n",
    "    \"Ruim\" if valor <= 2 else\n",
    "    \"Neutro\" if valor <= 3 else\n",
    "    \"Bom\" if valor <= 4 else\n",
    "    \"Excelente\"\n",
    "))\n",
    "\n",
    "# Salvando o DataFrame processado para exportação\n",
    "colunas_exportacao = [\n",
    "    'anime', 'Gênero do anime', 'anime_url', 'anime_img', 'Quantidade de episódios do anime',\n",
    "    'Votos totais do anime', 'Avaliação do anime', 'Avaliação Categoria do anime',\n",
    "    'Contagem total de votos de todos os animes', 'Estatísticas do gênero', 'Gênero Calculado'\n",
    "]\n",
    "\n",
    "dados_animes_final = dados_animes[colunas_exportacao]\n",
    "caminho_arquivo_processado = 'animes_para_power_bi.csv'\n",
    "dados_animes_final.to_csv(caminho_arquivo_processado, index=False)\n",
    "\n",
    "print(f\"Arquivo CSV processado e pronto para uso no Power BI salvo em: {caminho_arquivo_processado}\")\n"
   ]
  }
 ],
 "metadata": {
  "kernelspec": {
   "display_name": "Python 3",
   "language": "python",
   "name": "python3"
  },
  "language_info": {
   "codemirror_mode": {
    "name": "ipython",
    "version": 3
   },
   "file_extension": ".py",
   "mimetype": "text/x-python",
   "name": "python",
   "nbconvert_exporter": "python",
   "pygments_lexer": "ipython3",
   "version": "3.12.0"
  }
 },
 "nbformat": 4,
 "nbformat_minor": 2
}
