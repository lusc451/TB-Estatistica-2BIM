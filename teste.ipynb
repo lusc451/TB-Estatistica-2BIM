{
 "cells": [
  {
   "cell_type": "code",
   "execution_count": 1,
   "metadata": {},
   "outputs": [
    {
     "name": "stdout",
     "output_type": "stream",
     "text": [
      "Arquivo processado salvo em: animes_final.csv\n"
     ]
    }
   ],
   "source": [
    "import pandas as pd\n",
    "\n",
    "# Carregamento dos dados\n",
    "caminho_arquivo = 'animes.csv'  # Substitua pelo caminho correto do arquivo\n",
    "dados_animes = pd.read_csv(caminho_arquivo)\n",
    "\n",
    "# Renomeando colunas para Português\n",
    "renomear_colunas = {\n",
    "    'rate': 'Avaliação',\n",
    "    'votes': 'Votos Totais',\n",
    "    'episodes': 'Número de Episódios'\n",
    "}\n",
    "dados_animes.rename(columns=renomear_colunas, inplace=True)\n",
    "\n",
    "# Excluir animes que não possuem episódios\n",
    "dados_animes = dados_animes[dados_animes['Número de Episódios'] > 0]\n",
    "\n",
    "# Adicionando indicadores estatísticos\n",
    "colunas_genero = [col for col in dados_animes.columns if 'genre_' in col]\n",
    "anime_popular_por_genero = {}\n",
    "\n",
    "for genero in colunas_genero:\n",
    "    dados_genero = dados_animes[dados_animes[genero] == 1]\n",
    "    if not dados_genero.empty:\n",
    "        mais_popular = dados_genero.loc[dados_genero['Votos Totais'].idxmax()]\n",
    "        anime_popular_por_genero[genero] = mais_popular['anime']\n",
    "\n",
    "# Criando uma coluna para animes populares e seus gêneros\n",
    "dados_animes['Anime Popular'] = dados_animes['anime'].apply(lambda x: x if x in anime_popular_por_genero.values() else '')\n",
    "dados_animes['Gênero do Anime Popular'] = dados_animes['Anime Popular'].apply(lambda x: next((g.replace('genre_', '').capitalize() for g, a in anime_popular_por_genero.items() if a == x), ''))\n",
    "\n",
    "# Calculando estatísticas descritivas para o DataFrame inteiro\n",
    "assimetria_aval = dados_animes['Avaliação'].skew()\n",
    "curtose_aval = dados_animes['Avaliação'].kurt()\n",
    "desvio_padrao_aval = dados_animes['Avaliação'].std()\n",
    "\n",
    "# Adicionando as estatísticas como novas colunas\n",
    "dados_animes['Assimetria Avaliação'] = assimetria_aval\n",
    "dados_animes['Curtose Avaliação'] = curtose_aval\n",
    "dados_animes['Desvio Padrão Avaliação'] = desvio_padrao_aval\n",
    "\n",
    "# Reorganizando colunas\n",
    "colunas_nucleo = ['anime', 'anime_url', 'anime_img', 'Número de Episódios', 'Votos Totais',\n",
    "                  'Avaliação', 'Anime Popular', 'Gênero do Anime Popular']\n",
    "colunas_estatisticas = ['Assimetria Avaliação', 'Curtose Avaliação', 'Desvio Padrão Avaliação']\n",
    "\n",
    "# Reorganizando colunas\n",
    "dados_animes = dados_animes[colunas_nucleo + colunas_estatisticas]\n",
    "\n",
    "# Salvando o dataframe processado\n",
    "caminho_arquivo_processado = 'animes_final.csv'  # Substitua pelo caminho desejado\n",
    "dados_animes.to_csv(caminho_arquivo_processado, index=False)\n",
    "\n",
    "print(f\"Arquivo processado salvo em: {caminho_arquivo_processado}\")\n"
   ]
  }
 ],
 "metadata": {
  "kernelspec": {
   "display_name": "Python 3",
   "language": "python",
   "name": "python3"
  },
  "language_info": {
   "codemirror_mode": {
    "name": "ipython",
    "version": 3
   },
   "file_extension": ".py",
   "mimetype": "text/x-python",
   "name": "python",
   "nbconvert_exporter": "python",
   "pygments_lexer": "ipython3",
   "version": "3.12.0"
  }
 },
 "nbformat": 4,
 "nbformat_minor": 2
}
