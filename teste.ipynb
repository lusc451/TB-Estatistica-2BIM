{
 "cells": [
  {
   "cell_type": "markdown",
   "metadata": {},
   "source": [
    "# Tratamento de dados de um DataFrame de Animes da Crunchyroll"
   ]
  },
  {
   "cell_type": "markdown",
   "metadata": {},
   "source": [
    "## Importação das bibliotecas e carregamento do DataFrame"
   ]
  },
  {
   "cell_type": "code",
   "execution_count": 1,
   "metadata": {},
   "outputs": [],
   "source": [
    "import pandas as pd\n",
    "import numpy as np\n",
    "\n",
    "# Carregamento dos dados\n",
    "caminho_arquivo = 'animes.csv'\n",
    "dados_animes = pd.read_csv(caminho_arquivo)"
   ]
  },
  {
   "cell_type": "markdown",
   "metadata": {},
   "source": [
    "## Renomeando colunas"
   ]
  },
  {
   "cell_type": "code",
   "execution_count": 2,
   "metadata": {},
   "outputs": [],
   "source": [
    "# Renomeando e preparando colunas\n",
    "dados_animes.rename(columns={\n",
    "    'rate': 'Avaliação do anime',\n",
    "    'votes': 'Votos totais do anime',\n",
    "    'episodes': 'Quantidade de episódios do anime'\n",
    "}, inplace=True)"
   ]
  },
  {
   "cell_type": "markdown",
   "metadata": {},
   "source": [
    "## Tratamento de dados nulos e Cálculos estatísticos"
   ]
  },
  {
   "cell_type": "code",
   "execution_count": 3,
   "metadata": {},
   "outputs": [],
   "source": [
    "# Exclusão de animes sem episódios\n",
    "dados_animes = dados_animes[dados_animes['Quantidade de episódios do anime'] > 0]\n",
    "\n",
    "# Contagem total de votos\n",
    "dados_animes['Contagem total de votos de todos os animes'] = dados_animes['Votos totais do anime'].sum()\n",
    "\n",
    "# Preparação das estatísticas por gênero\n",
    "colunas_genero = [col for col in dados_animes.columns if 'genre_' in col]\n",
    "# Inicializar as colunas de estatísticas\n",
    "dados_animes['Votos do gênero'] = 0\n",
    "dados_animes['Animes do gênero'] = 0\n",
    "dados_animes['Episódios do gênero'] = 0\n",
    "dados_animes['Média de avaliações do gênero'] = np.nan\n",
    "dados_animes['Assimetria da média do gênero'] = np.nan\n",
    "dados_animes['Curtose da média do gênero'] = np.nan\n",
    "dados_animes['Desvio padrão da média do gênero'] = np.nan\n",
    "dados_animes['Gênero Calculado'] = \"\"\n",
    "\n",
    "for genero in colunas_genero:\n",
    "    genero_label = genero.replace('genre_', '').capitalize()\n",
    "    grupo = dados_animes[dados_animes[genero] == 1]\n",
    "\n",
    "    if not grupo.empty:\n",
    "        dados_animes.loc[grupo.index, 'Votos do gênero'] = grupo['Votos totais do anime'].sum()\n",
    "        dados_animes.loc[grupo.index, 'Animes do gênero'] = grupo.shape[0]\n",
    "        dados_animes.loc[grupo.index, 'Episódios do gênero'] = grupo['Quantidade de episódios do anime'].sum()\n",
    "        dados_animes.loc[grupo.index, 'Média de avaliações do gênero'] = grupo['Avaliação do anime'].mean()\n",
    "        dados_animes.loc[grupo.index, 'Assimetria da média do gênero'] = grupo['Avaliação do anime'].skew()\n",
    "        dados_animes.loc[grupo.index, 'Curtose da média do gênero'] = grupo['Avaliação do anime'].kurt()\n",
    "        dados_animes.loc[grupo.index, 'Desvio padrão da média do gênero'] = grupo['Avaliação do anime'].std()\n",
    "        dados_animes.loc[grupo.index, 'Gênero Calculado'] = genero_label\n",
    "\n",
    "# Classificação de avaliação\n",
    "dados_animes['Avaliação Categoria do anime'] = dados_animes['Avaliação do anime'].apply(lambda valor: (\n",
    "    \"Péssimo\" if valor <= 1 else\n",
    "    \"Ruim\" if valor <= 2 else\n",
    "    \"Neutro\" if valor <= 3 else\n",
    "    \"Bom\" if valor <= 4 else\n",
    "    \"Excelente\"\n",
    "))"
   ]
  },
  {
   "cell_type": "markdown",
   "metadata": {},
   "source": [
    "## Reorganizando os dados"
   ]
  },
  {
   "cell_type": "code",
   "execution_count": 4,
   "metadata": {},
   "outputs": [],
   "source": [
    "# Salvando o DataFrame processado para exportação\n",
    "colunas_exportacao = [\n",
    "    'anime', 'anime_url', 'anime_img', 'Quantidade de episódios do anime',\n",
    "    'Votos totais do anime', 'Avaliação do anime', 'Avaliação Categoria do anime',\n",
    "    'Contagem total de votos de todos os animes', 'Votos do gênero', 'Animes do gênero',\n",
    "    'Episódios do gênero', 'Média de avaliações do gênero', 'Assimetria da média do gênero',\n",
    "    'Curtose da média do gênero', 'Desvio padrão da média do gênero', 'Gênero Calculado'\n",
    "]"
   ]
  },
  {
   "cell_type": "markdown",
   "metadata": {},
   "source": [
    "## Exportando os dados tratados para um novo CSV"
   ]
  },
  {
   "cell_type": "code",
   "execution_count": 5,
   "metadata": {},
   "outputs": [
    {
     "name": "stdout",
     "output_type": "stream",
     "text": [
      "Arquivo CSV processado e pronto para uso no Power BI salvo em: animes_para_power_bi.csv\n"
     ]
    }
   ],
   "source": [
    "dados_animes_final = dados_animes[colunas_exportacao]\n",
    "caminho_arquivo_processado = 'animes_para_power_bi.csv'\n",
    "dados_animes_final.to_csv(caminho_arquivo_processado, index=False)\n",
    "\n",
    "print(f\"Arquivo CSV processado e pronto para uso no Power BI salvo em: {caminho_arquivo_processado}\")"
   ]
  }
 ],
 "metadata": {
  "kernelspec": {
   "display_name": "Python 3",
   "language": "python",
   "name": "python3"
  },
  "language_info": {
   "codemirror_mode": {
    "name": "ipython",
    "version": 3
   },
   "file_extension": ".py",
   "mimetype": "text/x-python",
   "name": "python",
   "nbconvert_exporter": "python",
   "pygments_lexer": "ipython3",
   "version": "3.12.0"
  }
 },
 "nbformat": 4,
 "nbformat_minor": 2
}
