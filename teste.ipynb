{
 "cells": [
  {
   "cell_type": "code",
   "execution_count": 4,
   "metadata": {},
   "outputs": [
    {
     "name": "stdout",
     "output_type": "stream",
     "text": [
      "Arquivo CSV processado e pronto para uso no Power BI salvo em: animes_para_power_bi.csv\n"
     ]
    }
   ],
   "source": [
    "import pandas as pd\n",
    "\n",
    "# Carregamento dos dados\n",
    "caminho_arquivo = 'animes.csv'\n",
    "dados_animes = pd.read_csv(caminho_arquivo)\n",
    "\n",
    "# Renomeando e preparando colunas\n",
    "dados_animes.rename(columns={\n",
    "    'rate': 'Avaliação do anime',\n",
    "    'votes': 'Votos totais do anime',\n",
    "    'episodes': 'Quantidade de episódios do anime'\n",
    "}, inplace=True)\n",
    "\n",
    "# Exclusão de animes sem episódios\n",
    "dados_animes = dados_animes[dados_animes['Quantidade de episódios do anime'] > 0]\n",
    "\n",
    "# Contagem total de votos\n",
    "dados_animes['Contagem total de votos de todos os animes'] = dados_animes['Votos totais do anime'].sum()\n",
    "\n",
    "# Preparação das colunas de gênero e criação de 'Gênero do anime'\n",
    "colunas_genero = [col for col in dados_animes.columns if 'genre_' in col]\n",
    "dados_animes['Gênero do anime'] = dados_animes[colunas_genero].apply(lambda x: ', '.join(x.index[x == 1].str.replace('genre_', '').str.capitalize()), axis=1)\n",
    "\n",
    "# Calculando estatísticas combinadas e armazenando em colunas\n",
    "for genero in colunas_genero:\n",
    "    genero_label = genero.replace('genre_', '').capitalize()\n",
    "    grupo = dados_animes[dados_animes[genero] == 1]\n",
    "    if not grupo.empty:\n",
    "        estatisticas = (\n",
    "            f'Votos: {grupo[\"Votos totais do anime\"].sum()}, '\n",
    "            f'Animes: {grupo.shape[0]}, '\n",
    "            f'Episódios: {grupo[\"Quantidade de episódios do anime\"].sum()}, '\n",
    "            f'Média Avaliações: {grupo[\"Avaliação do anime\"].mean():.2f}, '\n",
    "            f'Assimetria: {grupo[\"Avaliação do anime\"].skew():.2f}, '\n",
    "            f'Curtose: {grupo[\"Avaliação do anime\"].kurt():.2f}, '\n",
    "            f'Desvio Padrão: {grupo[\"Avaliação do anime\"].std():.2f}'\n",
    "        )\n",
    "        dados_animes.loc[dados_animes[genero] == 1, 'Estatísticas do gênero'] = estatisticas\n",
    "        dados_animes.loc[dados_animes[genero] == 1, 'Gênero Calculado'] = genero_label\n",
    "\n",
    "# Classificação de avaliação\n",
    "dados_animes['Avaliação Categoria do anime'] = dados_animes['Avaliação do anime'].apply(lambda valor: (\n",
    "    \"Péssimo\" if valor <= 1 else\n",
    "    \"Ruim\" if valor <= 2 else\n",
    "    \"Neutro\" if valor <= 3 else\n",
    "    \"Bom\" if valor <= 4 else\n",
    "    \"Excelente\"\n",
    "))\n",
    "\n",
    "# Salvando o DataFrame processado para exportação\n",
    "colunas_exportacao = [\n",
    "    'anime', 'Gênero do anime', 'anime_url', 'anime_img', 'Quantidade de episódios do anime',\n",
    "    'Votos totais do anime', 'Avaliação do anime', 'Avaliação Categoria do anime',\n",
    "    'Contagem total de votos de todos os animes', 'Estatísticas do gênero', 'Gênero Calculado'\n",
    "]\n",
    "\n",
    "dados_animes_final = dados_animes[colunas_exportacao]\n",
    "caminho_arquivo_processado = 'animes_para_power_bi.csv'\n",
    "dados_animes_final.to_csv(caminho_arquivo_processado, index=False)\n",
    "\n",
    "print(f\"Arquivo CSV processado e pronto para uso no Power BI salvo em: {caminho_arquivo_processado}\")\n"
   ]
  }
 ],
 "metadata": {
  "kernelspec": {
   "display_name": "Python 3",
   "language": "python",
   "name": "python3"
  },
  "language_info": {
   "codemirror_mode": {
    "name": "ipython",
    "version": 3
   },
   "file_extension": ".py",
   "mimetype": "text/x-python",
   "name": "python",
   "nbconvert_exporter": "python",
   "pygments_lexer": "ipython3",
   "version": "3.12.0"
  }
 },
 "nbformat": 4,
 "nbformat_minor": 2
}
