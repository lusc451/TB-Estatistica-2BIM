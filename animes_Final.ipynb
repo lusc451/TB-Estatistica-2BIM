{
 "cells": [
  {
   "cell_type": "code",
   "execution_count": 1,
   "metadata": {},
   "outputs": [
    {
     "name": "stdout",
     "output_type": "stream",
     "text": [
      "Dados exportados com sucesso para 'dados_tratados_para_power_bi.csv'. Prontos para serem usados no Power BI.\n"
     ]
    },
    {
     "name": "stderr",
     "output_type": "stream",
     "text": [
      "C:\\Users\\Pref Sales Oliveira\\AppData\\Local\\Temp\\ipykernel_2732\\640243387.py:14: FutureWarning: A value is trying to be set on a copy of a DataFrame or Series through chained assignment using an inplace method.\n",
      "The behavior will change in pandas 3.0. This inplace method will never work because the intermediate object on which we are setting values always behaves as a copy.\n",
      "\n",
      "For example, when doing 'df[col].method(value, inplace=True)', try using 'df.method({col: value}, inplace=True)' or df[col] = df[col].method(value) instead, to perform the operation inplace on the original object.\n",
      "\n",
      "\n",
      "  dados[col].fillna('Desconhecido', inplace=True)     # Substitui por 'Desconhecido' para dados categóricos\n",
      "C:\\Users\\Pref Sales Oliveira\\AppData\\Local\\Temp\\ipykernel_2732\\640243387.py:12: FutureWarning: A value is trying to be set on a copy of a DataFrame or Series through chained assignment using an inplace method.\n",
      "The behavior will change in pandas 3.0. This inplace method will never work because the intermediate object on which we are setting values always behaves as a copy.\n",
      "\n",
      "For example, when doing 'df[col].method(value, inplace=True)', try using 'df.method({col: value}, inplace=True)' or df[col] = df[col].method(value) instead, to perform the operation inplace on the original object.\n",
      "\n",
      "\n",
      "  dados[col].fillna(dados[col].mean(), inplace=True)  # Substitui por média para dados numéricos\n"
     ]
    }
   ],
   "source": [
    "import pandas as pd\n",
    "\n",
    "# Extração: Carregar os dados do arquivo CSV\n",
    "dados = pd.read_csv('animes.csv')\n",
    "\n",
    "# Transformação: Limpeza e manipulação dos dados\n",
    "\n",
    "# 1. Tratamento de valores nulos\n",
    "# Substituir valores nulos por valores padrão ou média, dependendo do tipo de dado\n",
    "for col in dados.columns:\n",
    "    if dados[col].dtype == \"float64\" or dados[col].dtype == \"int64\":\n",
    "        dados[col].fillna(dados[col].mean(), inplace=True)  # Substitui por média para dados numéricos\n",
    "    else:\n",
    "        dados[col].fillna('Desconhecido', inplace=True)     # Substitui por 'Desconhecido' para dados categóricos\n",
    "\n",
    "# 2. Normalização de tipos de dados\n",
    "# Conversão de tipos de dados se necessário (por exemplo, garantindo que 'rate' seja float)\n",
    "dados['rate'] = dados['rate'].astype(float)\n",
    "\n",
    "# 3. Renomeação de colunas para melhor entendimento\n",
    "dados.rename(columns={\n",
    "    'anime': 'Nome do Anime',\n",
    "    'episodes': 'Número de Episódios',\n",
    "    'votes': 'Votos',\n",
    "    'rate': 'Classificação',\n",
    "    'type': 'Tipo'\n",
    "}, inplace=True)\n",
    "\n",
    "# 4. Criação de novas colunas\n",
    "# Adicionando uma coluna de classificação baseada na coluna 'Classificação'\n",
    "bins = [0, 2, 4, 6, 8, 10]\n",
    "labels = ['Muito Ruim', 'Ruim', 'Médio', 'Bom', 'Excelente']\n",
    "dados['Classificação Categórica'] = pd.cut(dados['Classificação'], bins=bins, labels=labels)\n",
    "\n",
    "# Carregamento: Exportar os dados transformados para um arquivo CSV\n",
    "\n",
    "dados.to_csv('dados_tratados_para_power_bi.csv', index=False, header=True)\n",
    "\n",
    "# Informar que o processo foi completado com sucesso\n",
    "print(\"Dados exportados com sucesso para 'dados_tratados_para_power_bi.csv'. Prontos para serem usados no Power BI.\")\n"
   ]
  }
 ],
 "metadata": {
  "kernelspec": {
   "display_name": "Python 3",
   "language": "python",
   "name": "python3"
  },
  "language_info": {
   "codemirror_mode": {
    "name": "ipython",
    "version": 3
   },
   "file_extension": ".py",
   "mimetype": "text/x-python",
   "name": "python",
   "nbconvert_exporter": "python",
   "pygments_lexer": "ipython3",
   "version": "3.12.0"
  }
 },
 "nbformat": 4,
 "nbformat_minor": 2
}
