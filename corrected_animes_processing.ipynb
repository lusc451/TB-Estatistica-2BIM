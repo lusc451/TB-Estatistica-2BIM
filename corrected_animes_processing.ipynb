{
 "cells": [
  {
   "cell_type": "markdown",
   "id": "4e0a087a",
   "metadata": {},
   "source": [
    "# Tratamento de Dados para Dataset de Animes"
   ]
  },
  {
   "cell_type": "markdown",
   "id": "b731efad",
   "metadata": {},
   "source": [
    "## Carregamento dos Dados"
   ]
  },
  {
   "cell_type": "code",
   "execution_count": 1,
   "id": "f9f9e2f2",
   "metadata": {},
   "outputs": [],
   "source": [
    "\n",
    "import pandas as pd\n",
    "\n",
    "# Carregamento dos dados\n",
    "file_path = 'animes.csv'  # Substitua pelo caminho correto do arquivo\n",
    "animes_data = pd.read_csv(file_path)\n",
    "        "
   ]
  },
  {
   "cell_type": "markdown",
   "id": "237288cd",
   "metadata": {},
   "source": [
    "## Renomeação das Colunas"
   ]
  },
  {
   "cell_type": "code",
   "execution_count": 2,
   "id": "4b4133b3",
   "metadata": {},
   "outputs": [],
   "source": [
    "\n",
    "# Renomeando colunas para Português\n",
    "columns_rename = {\n",
    "    'rate': 'Avaliação',\n",
    "    'votes': 'Votos Totais',\n",
    "    'episodes': 'Número de Episódios'\n",
    "}\n",
    "animes_data.rename(columns=columns_rename, inplace=True)\n",
    "        "
   ]
  },
  {
   "cell_type": "markdown",
   "id": "67559a52",
   "metadata": {},
   "source": [
    "## Cálculo de Indicadores Estatísticos"
   ]
  },
  {
   "cell_type": "code",
   "execution_count": 3,
   "id": "7e404fb8",
   "metadata": {},
   "outputs": [],
   "source": [
    "\n",
    "# Adicionando indicadores estatísticos\n",
    "genre_columns = [col for col in animes_data.columns if 'genre_' in col]\n",
    "genre_data_summary = {}\n",
    "\n",
    "for genre in genre_columns:\n",
    "    genre_data = animes_data[animes_data[genre] == 1]\n",
    "    genre_data_summary[genre] = {\n",
    "        'Média de Avaliações': genre_data['Avaliação'].mean(),\n",
    "        'Votos Totais por Gênero': genre_data['Votos Totais'].sum(),\n",
    "        'Contagem de Animes': genre_data.shape[0],\n",
    "        'Média de Episódios': genre_data['Número de Episódios'].mean()\n",
    "    }\n",
    "\n",
    "# Calculando os gêneros mais populares\n",
    "most_popular_genre = max(genre_data_summary, key=lambda x: genre_data_summary[x]['Votos Totais por Gênero'])\n",
    "most_anime_genre = max(genre_data_summary, key=lambda x: genre_data_summary[x]['Contagem de Animes'])\n",
    "\n",
    "# Inserindo as estatísticas calculadas de volta no DataFrame\n",
    "for genre in genre_columns:\n",
    "    animes_data[f'{genre}_Votos Totais por Gênero'] = genre_data_summary[genre]['Votos Totais por Gênero']\n",
    "    animes_data[f'{genre}_Contagem de Animes'] = genre_data_summary[genre]['Contagem de Animes']\n",
    "\n",
    "# Reorganizando colunas\n",
    "cols_order = ['anime', 'Número de Episódios', 'Votos Totais', 'Avaliação'] + [col for col in animes_data.columns if col.startswith('genre_')]\n",
    "animes_data = animes_data[cols_order]\n",
    "        "
   ]
  },
  {
   "cell_type": "markdown",
   "id": "f67d6042",
   "metadata": {},
   "source": [
    "## Salvando o Dataset Processado"
   ]
  },
  {
   "cell_type": "code",
   "execution_count": 4,
   "id": "95ef5e99",
   "metadata": {},
   "outputs": [
    {
     "name": "stdout",
     "output_type": "stream",
     "text": [
      "Arquivo processado salvo em: Animes_ETL.csv\n"
     ]
    }
   ],
   "source": [
    "\n",
    "# Salvando o dataframe processado\n",
    "processed_file_path = 'Animes_ETL.csv'  # Substitua pelo caminho desejado\n",
    "animes_data.to_csv(processed_file_path, index=False)\n",
    "\n",
    "print(f\"Arquivo processado salvo em: {processed_file_path}\")\n",
    "        "
   ]
  }
 ],
 "metadata": {
  "kernelspec": {
   "display_name": "Python 3",
   "language": "python",
   "name": "python3"
  },
  "language_info": {
   "codemirror_mode": {
    "name": "ipython",
    "version": 3
   },
   "file_extension": ".py",
   "mimetype": "text/x-python",
   "name": "python",
   "nbconvert_exporter": "python",
   "pygments_lexer": "ipython3",
   "version": "3.12.0"
  }
 },
 "nbformat": 4,
 "nbformat_minor": 5
}
