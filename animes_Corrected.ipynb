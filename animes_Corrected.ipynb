{
 "cells": [
  {
   "cell_type": "code",
   "execution_count": null,
   "id": "5da958f4",
   "metadata": {},
   "outputs": [],
   "source": [
    "import pandas as pd\n",
    "import numpy as np\n",
    "import matplotlib.pyplot as plt"
   ]
  },
  {
   "cell_type": "code",
   "execution_count": null,
   "id": "aafd6b49",
   "metadata": {},
   "outputs": [],
   "source": [
    "# Carregar os dados\n",
    "dados = pd.read_csv('animes.csv')\n",
    "\n",
    "# Tratamento de valores nulos\n",
    "for col in dados.columns:\n",
    "    if dados[col].dtype in [\"float64\", \"int64\"]:\n",
    "        dados[col].fillna(dados[col].mean(), inplace=True)\n",
    "    else:\n",
    "        dados[col].fillna('Desconhecido', inplace=True)\n",
    "\n",
    "# Normalização e renomeação de tipos de dados\n",
    "dados['rate'] = dados['rate'].astype(float)\n",
    "dados.rename(columns={\n",
    "    'anime': 'Nome do Anime',\n",
    "    'episodes': 'Número de Episódios',\n",
    "    'votes': 'Votos',\n",
    "    'rate': 'Classificação'\n",
    "}, inplace=True)\n",
    "\n",
    "# Criação de novas colunas\n",
    "bins = [0, 2, 4, 6, 8, 10]\n",
    "labels = ['Muito Ruim', 'Ruim', 'Médio', 'Bom', 'Excelente']\n",
    "dados['Classificação Categórica'] = pd.cut(dados['Classificação'], bins=bins, labels=labels)\n",
    "\n",
    "# Análise Comparativa por Gênero\n",
    "genres_columns = [col for col in dados.columns if 'genre_' in col]\n",
    "genre_summary = dados[genres_columns + ['Votos', 'Classificação']].melt(var_name='Gênero', value_name='Presença')\n",
    "genre_summary = genre_summary[genre_summary['Presença'] == 1].drop('Presença', axis=1)\n",
    "genre_stats = genre_summary.groupby('Gênero').agg({'Votos': ['sum', 'mean', 'count'], 'Classificação': ['mean', 'std']}).reset_index()\n",
    "genre_stats.columns = ['Gênero', 'Votos_Total', 'Votos_Média', 'Animes_por_Gênero', 'Classificação_Média', 'Classificação_Desvio_Padrão']\n",
    "\n",
    "# Adicionando os dados de gênero ao dataframe principal\n",
    "for col in genre_stats.columns[1:]:\n",
    "    dados[col] = dados.apply(lambda x: genre_stats[genre_stats['Gênero'] == x['Gênero']][col].values[0] if x['Gênero'] in genre_stats['Gênero'].values else np.nan, axis=1)\n",
    "\n",
    "# Correlação entre Número de Episódios e Classificação\n",
    "correlation_coefficient = dados[['Número de Episódios', 'Classificação']].corr().iloc[0, 1]\n",
    "dados['Correlação_Episódios_Classificação'] = correlation_coefficient\n",
    "\n",
    "# Adicionando mais indicadores estatísticos\n",
    "dados['Média_Votos'] = dados['Votos'].mean()\n",
    "dados['Desvio_Padrão_Votos'] = dados['Votos'].std()"
   ]
  },
  {
   "cell_type": "code",
   "execution_count": null,
   "id": "76c84833",
   "metadata": {},
   "outputs": [],
   "source": [
    "dados.to_csv('dados_tratados_para_power_bi.csv', index=False, header=True)\n",
    "print(\"Dados exportados com sucesso para 'dados_tratados_para_power_bi.csv'. Prontos para serem usados no Power BI.\")"
   ]
  }
 ],
 "metadata": {},
 "nbformat": 4,
 "nbformat_minor": 5
}
