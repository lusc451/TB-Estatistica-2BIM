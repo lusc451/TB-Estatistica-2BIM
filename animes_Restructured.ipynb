{
 "cells": [
  {
   "cell_type": "code",
   "execution_count": null,
   "id": "5da958f4",
   "metadata": {},
   "outputs": [],
   "source": [
    "import pandas as pd\n",
    "import numpy as np\n",
    "import matplotlib.pyplot as plt"
   ]
  },
  {
   "cell_type": "code",
   "execution_count": null,
   "id": "b25f215f",
   "metadata": {},
   "outputs": [],
   "source": [
    "# Carregar os dados\n",
    "dados = pd.read_csv('animes.csv')\n",
    "\n",
    "# Tratamento de valores nulos\n",
    "for col in dados.columns:\n",
    "    if dados[col].dtype in [\"float64\", \"int64\"]:\n",
    "        dados[col].fillna(dados[col].mean(), inplace=True)\n",
    "    else:\n",
    "        dados[col].fillna('Desconhecido', inplace=True)\n",
    "\n",
    "# Normalização e renomeação de tipos de dados\n",
    "dados['rate'] = dados['rate'].astype(float)\n",
    "dados.rename(columns={\n",
    "    'anime': 'Nome do Anime',\n",
    "    'episodes': 'Número de Episódios',\n",
    "    'votes': 'Votos',\n",
    "    'rate': 'Classificação'\n",
    "}, inplace=True)\n",
    "\n",
    "# Criação de novas colunas\n",
    "bins = [0, 2, 4, 6, 8, 10]\n",
    "labels = ['Muito Ruim', 'Ruim', 'Médio', 'Bom', 'Excelente']\n",
    "dados['Classificação Categórica'] = pd.cut(dados['Classificação'], bins=bins, labels=labels)\n",
    "\n",
    "# Análise Comparativa por Gênero\n",
    "genres_columns = [col for col in dados.columns if 'genre_' in col]\n",
    "genres_aggregated = dados[genres_columns + ['Votos', 'Classificação']].groupby(genres_columns).agg({\n",
    "    'Votos': ['sum', 'mean', 'count'],\n",
    "    'Classificação': ['mean', 'std']\n",
    "})\n",
    "\n",
    "# Correlação entre Número de Episódios e Classificação\n",
    "correlation_data = dados[['Número de Episódios', 'Classificação']].corr()"
   ]
  },
  {
   "cell_type": "code",
   "execution_count": null,
   "id": "76c84833",
   "metadata": {},
   "outputs": [],
   "source": [
    "dados.to_csv('dados_tratados_para_power_bi.csv', index=False, header=True)\n",
    "print(\"Dados exportados com sucesso para 'dados_tratados_para_power_bi.csv'. Prontos para serem usados no Power BI.\")"
   ]
  }
 ],
 "metadata": {},
 "nbformat": 4,
 "nbformat_minor": 5
}
