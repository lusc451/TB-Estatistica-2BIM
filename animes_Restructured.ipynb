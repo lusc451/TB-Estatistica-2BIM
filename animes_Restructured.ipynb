{
 "cells": [
  {
   "cell_type": "code",
   "execution_count": 1,
   "id": "5da958f4",
   "metadata": {},
   "outputs": [],
   "source": [
    "import pandas as pd\n",
    "import numpy as np\n",
    "import matplotlib.pyplot as plt"
   ]
  },
  {
   "cell_type": "code",
   "execution_count": 2,
   "id": "b25f215f",
   "metadata": {},
   "outputs": [
    {
     "name": "stderr",
     "output_type": "stream",
     "text": [
      "C:\\Users\\cleit\\AppData\\Local\\Temp\\ipykernel_8180\\1192225559.py:9: FutureWarning: A value is trying to be set on a copy of a DataFrame or Series through chained assignment using an inplace method.\n",
      "The behavior will change in pandas 3.0. This inplace method will never work because the intermediate object on which we are setting values always behaves as a copy.\n",
      "\n",
      "For example, when doing 'df[col].method(value, inplace=True)', try using 'df.method({col: value}, inplace=True)' or df[col] = df[col].method(value) instead, to perform the operation inplace on the original object.\n",
      "\n",
      "\n",
      "  dados[col].fillna('Desconhecido', inplace=True)\n",
      "C:\\Users\\cleit\\AppData\\Local\\Temp\\ipykernel_8180\\1192225559.py:7: FutureWarning: A value is trying to be set on a copy of a DataFrame or Series through chained assignment using an inplace method.\n",
      "The behavior will change in pandas 3.0. This inplace method will never work because the intermediate object on which we are setting values always behaves as a copy.\n",
      "\n",
      "For example, when doing 'df[col].method(value, inplace=True)', try using 'df.method({col: value}, inplace=True)' or df[col] = df[col].method(value) instead, to perform the operation inplace on the original object.\n",
      "\n",
      "\n",
      "  dados[col].fillna(dados[col].mean(), inplace=True)\n"
     ]
    }
   ],
   "source": [
    "# Carregar os dados\n",
    "dados = pd.read_csv('animes.csv')\n",
    "\n",
    "# Tratamento de valores nulos\n",
    "for col in dados.columns:\n",
    "    if dados[col].dtype in [\"float64\", \"int64\"]:\n",
    "        dados[col].fillna(dados[col].mean(), inplace=True)\n",
    "    else:\n",
    "        dados[col].fillna('Desconhecido', inplace=True)\n",
    "\n",
    "# Normalização e renomeação de tipos de dados\n",
    "dados['rate'] = dados['rate'].astype(float)\n",
    "dados.rename(columns={\n",
    "    'anime': 'Nome do Anime',\n",
    "    'episodes': 'Número de Episódios',\n",
    "    'votes': 'Votos',\n",
    "    'rate': 'Classificação'\n",
    "}, inplace=True)\n",
    "\n",
    "# Criação de novas colunas\n",
    "bins = [0, 2, 4, 6, 8, 10]\n",
    "labels = ['Muito Ruim', 'Ruim', 'Médio', 'Bom', 'Excelente']\n",
    "dados['Classificação Categórica'] = pd.cut(dados['Classificação'], bins=bins, labels=labels)\n",
    "\n",
    "# Análise Comparativa por Gênero\n",
    "genres_columns = [col for col in dados.columns if 'genre_' in col]\n",
    "genres_aggregated = dados[genres_columns + ['Votos', 'Classificação']].groupby(genres_columns).agg({\n",
    "    'Votos': ['sum', 'mean', 'count'],\n",
    "    'Classificação': ['mean', 'std']\n",
    "})\n",
    "\n",
    "# Correlação entre Número de Episódios e Classificação\n",
    "correlation_data = dados[['Número de Episódios', 'Classificação']].corr()"
   ]
  },
  {
   "cell_type": "code",
   "execution_count": 3,
   "id": "76c84833",
   "metadata": {},
   "outputs": [
    {
     "name": "stdout",
     "output_type": "stream",
     "text": [
      "Dados exportados com sucesso para 'dados_tratados_para_power_bi.csv'. Prontos para serem usados no Power BI.\n"
     ]
    }
   ],
   "source": [
    "dados.to_csv('dados_tratados_para_power_bi.csv', index=False, header=True)\n",
    "print(\"Dados exportados com sucesso para 'dados_tratados_para_power_bi.csv'. Prontos para serem usados no Power BI.\")"
   ]
  }
 ],
 "metadata": {
  "kernelspec": {
   "display_name": "Python 3",
   "language": "python",
   "name": "python3"
  },
  "language_info": {
   "codemirror_mode": {
    "name": "ipython",
    "version": 3
   },
   "file_extension": ".py",
   "mimetype": "text/x-python",
   "name": "python",
   "nbconvert_exporter": "python",
   "pygments_lexer": "ipython3",
   "version": "3.12.0"
  }
 },
 "nbformat": 4,
 "nbformat_minor": 5
}
