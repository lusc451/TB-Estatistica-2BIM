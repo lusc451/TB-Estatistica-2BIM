{
 "cells": [
  {
   "cell_type": "markdown",
   "id": "d39a78f0",
   "metadata": {},
   "source": [
    "# Tratamento de Dados do Dataset de Animes"
   ]
  },
  {
   "cell_type": "markdown",
   "id": "cef38b3b",
   "metadata": {},
   "source": [
    "## Importação das Bibliotecas"
   ]
  },
  {
   "cell_type": "code",
   "execution_count": null,
   "id": "7bc882cb",
   "metadata": {},
   "outputs": [],
   "source": [
    "\n",
    "import pandas as pd\n",
    "        "
   ]
  },
  {
   "cell_type": "markdown",
   "id": "b8d9d9df",
   "metadata": {},
   "source": [
    "## Carregamento dos Dados"
   ]
  },
  {
   "cell_type": "code",
   "execution_count": null,
   "id": "5d4c7f13",
   "metadata": {},
   "outputs": [],
   "source": [
    "\n",
    "# Carregamento dos dados\n",
    "file_path = 'caminho_para_seu_arquivo.csv'  # Substitua pelo caminho correto do arquivo\n",
    "animes_data = pd.read_csv(file_path)\n",
    "animes_data.head()\n",
    "        "
   ]
  },
  {
   "cell_type": "markdown",
   "id": "2f0d2422",
   "metadata": {},
   "source": [
    "## Renomeação das Colunas para Português"
   ]
  },
  {
   "cell_type": "code",
   "execution_count": null,
   "id": "95966593",
   "metadata": {},
   "outputs": [],
   "source": [
    "\n",
    "# Renomeando colunas para Português\n",
    "columns_rename = {\n",
    "    'rate': 'Avaliação',\n",
    "    'votes': 'Votos Totais',\n",
    "    'episodes': 'Número de Episódios'\n",
    "}\n",
    "animes_data.rename(columns=columns_rename, inplace=True)\n",
    "animes_data.head()\n",
    "        "
   ]
  },
  {
   "cell_type": "markdown",
   "id": "8b4ceab9",
   "metadata": {},
   "source": [
    "## Adição de Novas Colunas com Indicadores Estatísticos"
   ]
  },
  {
   "cell_type": "code",
   "execution_count": null,
   "id": "76457d95",
   "metadata": {},
   "outputs": [],
   "source": [
    "\n",
    "# Adicionando indicadores estatísticos\n",
    "genre_columns = [col for col in animes_data.columns if 'genre_' in col]\n",
    "statistical_data = pd.DataFrame()\n",
    "for genre in genre_columns:\n",
    "    genre_data = animes_data[animes_data[genre] == 1]\n",
    "    statistical_data[f'{genre}_média_avaliações'] = [genre_data['Avaliação'].mean()]\n",
    "    statistical_data[f'{genre}_votos_totais'] = [genre_data['Votos Totais'].sum()]\n",
    "    statistical_data[f'{genre}_contagem_animes'] = [genre_data.shape[0]]\n",
    "    statistical_data[f'{genre}_média_episódios'] = [genre_data['Número de Episódios'].mean()]\n",
    "\n",
    "# Concatenando os dados estatísticos com o dataframe principal\n",
    "animes_data = pd.concat([statistical_data.reset_index(drop=True), animes_data.reset_index(drop=True)], axis=1)\n",
    "animes_data.head()\n",
    "        "
   ]
  },
  {
   "cell_type": "markdown",
   "id": "506a853b",
   "metadata": {},
   "source": [
    "## Salvando o Dataset Processado"
   ]
  },
  {
   "cell_type": "code",
   "execution_count": null,
   "id": "806f6c2c",
   "metadata": {},
   "outputs": [],
   "source": [
    "\n",
    "# Salvando o dataframe processado\n",
    "processed_file_path = 'caminho_para_seu_arquivo_processado.csv'  # Substitua pelo caminho desejado\n",
    "animes_data.to_csv(processed_file_path, index=False)\n",
    "\n",
    "print(f\"Arquivo processado salvo em: {processed_file_path}\")\n",
    "        "
   ]
  }
 ],
 "metadata": {},
 "nbformat": 4,
 "nbformat_minor": 5
}
